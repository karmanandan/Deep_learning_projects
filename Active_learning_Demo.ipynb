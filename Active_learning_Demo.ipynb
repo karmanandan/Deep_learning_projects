{
  "cells": [
    {
      "cell_type": "markdown",
      "metadata": {
        "id": "view-in-github",
        "colab_type": "text"
      },
      "source": [
        "<a href=\"https://colab.research.google.com/github/karmanandan/Deep_learning_projects/blob/master/Active_learning_Demo.ipynb\" target=\"_parent\"><img src=\"https://colab.research.google.com/assets/colab-badge.svg\" alt=\"Open In Colab\"/></a>"
      ]
    },
    {
      "cell_type": "code",
      "source": [
        "# Installing Active Learening Library 'modAL'"
      ],
      "metadata": {
        "id": "Z-OAdGOKn3KF"
      },
      "execution_count": null,
      "outputs": []
    },
    {
      "cell_type": "code",
      "source": [
        "!pip install modAL"
      ],
      "metadata": {
        "id": "PhWcD-Otm88j",
        "outputId": "e670e798-75bd-4c44-8503-733244706a1f",
        "colab": {
          "base_uri": "https://localhost:8080/"
        }
      },
      "execution_count": null,
      "outputs": [
        {
          "output_type": "stream",
          "name": "stdout",
          "text": [
            "Looking in indexes: https://pypi.org/simple, https://us-python.pkg.dev/colab-wheels/public/simple/\n",
            "Requirement already satisfied: modAL in /usr/local/lib/python3.7/dist-packages (0.4.1)\n",
            "Requirement already satisfied: scipy>=0.18 in /usr/local/lib/python3.7/dist-packages (from modAL) (1.7.3)\n",
            "Requirement already satisfied: scikit-learn>=0.18 in /usr/local/lib/python3.7/dist-packages (from modAL) (1.0.2)\n",
            "Requirement already satisfied: numpy>=1.13 in /usr/local/lib/python3.7/dist-packages (from modAL) (1.21.6)\n",
            "Requirement already satisfied: pandas>=1.1.0 in /usr/local/lib/python3.7/dist-packages (from modAL) (1.3.5)\n",
            "Requirement already satisfied: python-dateutil>=2.7.3 in /usr/local/lib/python3.7/dist-packages (from pandas>=1.1.0->modAL) (2.8.2)\n",
            "Requirement already satisfied: pytz>=2017.3 in /usr/local/lib/python3.7/dist-packages (from pandas>=1.1.0->modAL) (2022.2.1)\n",
            "Requirement already satisfied: six>=1.5 in /usr/local/lib/python3.7/dist-packages (from python-dateutil>=2.7.3->pandas>=1.1.0->modAL) (1.15.0)\n",
            "Requirement already satisfied: joblib>=0.11 in /usr/local/lib/python3.7/dist-packages (from scikit-learn>=0.18->modAL) (1.1.0)\n",
            "Requirement already satisfied: threadpoolctl>=2.0.0 in /usr/local/lib/python3.7/dist-packages (from scikit-learn>=0.18->modAL) (3.1.0)\n"
          ]
        }
      ]
    },
    {
      "cell_type": "code",
      "source": [
        "# Import required libraries"
      ],
      "metadata": {
        "id": "SwWKmqUwn-a1"
      },
      "execution_count": null,
      "outputs": []
    },
    {
      "cell_type": "code",
      "execution_count": null,
      "metadata": {
        "id": "lIYdn1woOS1n"
      },
      "outputs": [],
      "source": [
        "import keras\n",
        "import numpy as np\n",
        "from keras import backend as K\n",
        "from keras.datasets import mnist\n",
        "from keras.models import Sequential\n",
        "from keras.layers import Dense, Dropout, Activation, Flatten, Conv2D, MaxPooling2D\n",
        "from keras.regularizers import l2\n",
        "from keras.wrappers.scikit_learn import KerasClassifier\n",
        "from modAL.models import ActiveLearner\n",
        "import tensorflow as tf\n",
        "\n",
        "tf.compat.v1.logging.set_verbosity(tf.compat.v1.logging.ERROR)"
      ]
    },
    {
      "cell_type": "code",
      "source": [
        "#create the classifier"
      ],
      "metadata": {
        "id": "o0uQS0IEoEfq"
      },
      "execution_count": null,
      "outputs": []
    },
    {
      "cell_type": "code",
      "source": [
        "def create_keras_model():\n",
        "    model = Sequential()\n",
        "    model.add(Conv2D(32, (4, 4), activation='relu'))\n",
        "    model.add(Conv2D(32, (4, 4), activation='relu'))\n",
        "    model.add(MaxPooling2D(pool_size=(2, 2)))\n",
        "    model.add(Dropout(0.25))\n",
        "    model.add(Flatten())\n",
        "    model.add(Dense(128, activation='relu'))\n",
        "    model.add(Dropout(0.5))\n",
        "    model.add(Dense(10, activation='softmax'))\n",
        "    model.compile(loss='categorical_crossentropy', optimizer='adam', metrics=[\"accuracy\"])\n",
        "    return model"
      ],
      "metadata": {
        "id": "QEC7TR3Nm5k0"
      },
      "execution_count": null,
      "outputs": []
    },
    {
      "cell_type": "code",
      "source": [
        "classifier = KerasClassifier(create_keras_model)"
      ],
      "metadata": {
        "id": "5HGRcGJYm7xa",
        "outputId": "d75b4b9d-1fdb-4483-c20b-afb211920529",
        "colab": {
          "base_uri": "https://localhost:8080/"
        }
      },
      "execution_count": null,
      "outputs": [
        {
          "output_type": "stream",
          "name": "stderr",
          "text": [
            "/usr/local/lib/python3.7/dist-packages/ipykernel_launcher.py:1: DeprecationWarning: KerasClassifier is deprecated, use Sci-Keras (https://github.com/adriangb/scikeras) instead. See https://www.adriangb.com/scikeras/stable/migration.html for help migrating.\n",
            "  \"\"\"Entry point for launching an IPython kernel.\n"
          ]
        }
      ]
    },
    {
      "cell_type": "code",
      "source": [
        "# read training data"
      ],
      "metadata": {
        "id": "vGh3BTL5oNjM"
      },
      "execution_count": null,
      "outputs": []
    },
    {
      "cell_type": "code",
      "source": [
        "(X_train, y_train), (X_test, y_test) = mnist.load_data()"
      ],
      "metadata": {
        "id": "Z6gWGaGsnCEt"
      },
      "execution_count": null,
      "outputs": []
    },
    {
      "cell_type": "code",
      "source": [
        "# preprocessing"
      ],
      "metadata": {
        "id": "2ZDbJR2CoQ0Q"
      },
      "execution_count": null,
      "outputs": []
    },
    {
      "cell_type": "code",
      "source": [
        "X_train = X_train.reshape(60000, 28, 28, 1).astype('float32') / 255.\n",
        "X_test = X_test.reshape(10000, 28, 28, 1).astype('float32') / 255.\n",
        "y_train = keras.utils.np_utils.to_categorical(y_train, 10)\n",
        "y_test = keras.utils.np_utils.to_categorical(y_test, 10)"
      ],
      "metadata": {
        "id": "e0Gm75uznD8C"
      },
      "execution_count": null,
      "outputs": []
    },
    {
      "cell_type": "code",
      "source": [
        "# initial labelled data"
      ],
      "metadata": {
        "id": "8jwqCuNDoTFn"
      },
      "execution_count": null,
      "outputs": []
    },
    {
      "cell_type": "code",
      "source": [
        "initial_idx = np.array([],dtype=int)\n",
        "for i in range(10):\n",
        "    idx = np.random.choice(np.where(y_train[:,i]==1)[0], size=2, replace=False)\n",
        "    initial_idx = np.concatenate((initial_idx, idx))\n",
        "\n",
        "X_initial = X_train[initial_idx]\n",
        "y_initial = y_train[initial_idx]"
      ],
      "metadata": {
        "id": "a4zw4OMJnFfi"
      },
      "execution_count": null,
      "outputs": []
    },
    {
      "cell_type": "code",
      "source": [
        "# initial unlabelled pool"
      ],
      "metadata": {
        "id": "wXUbJDe3oVip"
      },
      "execution_count": null,
      "outputs": []
    },
    {
      "cell_type": "code",
      "source": [
        "X_pool = np.delete(X_train, initial_idx, axis=0)\n",
        "y_pool = np.delete(y_train, initial_idx, axis=0)"
      ],
      "metadata": {
        "id": "4EwAlv-WnJwi"
      },
      "execution_count": null,
      "outputs": []
    },
    {
      "cell_type": "code",
      "source": [
        "# Query Strategies"
      ],
      "metadata": {
        "id": "LB-IWlMkoXto"
      },
      "execution_count": null,
      "outputs": []
    },
    {
      "cell_type": "code",
      "source": [
        "def uniform(learner, X, n_instances=1):\n",
        "    query_idx = np.random.choice(range(len(X)), size=n_instances, replace=False)\n",
        "    return query_idx, X[query_idx]\n",
        "\n",
        "def max_entropy(learner, X, n_instances=1, T=100):\n",
        "    random_subset = np.random.choice(X.shape[0], 2000, replace=False)\n",
        "    MC_output = K.function([learner.estimator.model.layers[0].input, K.learning_phase()],\n",
        "                           [learner.estimator.model.layers[-1].output])\n",
        "    learning_phase = True\n",
        "    MC_samples = [MC_output([X[random_subset], learning_phase])[0] for _ in range(T)]\n",
        "    MC_samples = np.array(MC_samples)  # [#samples x batch size x #classes]\n",
        "    expected_p = np.mean(MC_samples, axis=0)\n",
        "    acquisition = - np.sum(expected_p * np.log(expected_p + 1e-10), axis=-1)  # [batch size]\n",
        "    idx = (-acquisition).argsort()[:n_instances]\n",
        "    query_idx = random_subset[idx]\n",
        "    return query_idx, X[query_idx]"
      ],
      "metadata": {
        "id": "qhWLnG9tnNmt"
      },
      "execution_count": null,
      "outputs": []
    },
    {
      "cell_type": "code",
      "source": [
        "# Active Learning Procedure"
      ],
      "metadata": {
        "id": "vbpIR9zAoaBS"
      },
      "execution_count": null,
      "outputs": []
    },
    {
      "cell_type": "code",
      "source": [
        "def active_learning_procedure(query_strategy,\n",
        "                              X_test,\n",
        "                              y_test,\n",
        "                              X_pool,\n",
        "                              y_pool,\n",
        "                              X_initial,\n",
        "                              y_initial,\n",
        "                              estimator,\n",
        "                              epochs=50,\n",
        "                              batch_size=128,\n",
        "                              n_queries=100,\n",
        "                              n_instances=10,\n",
        "                              verbose=0):\n",
        "    learner = ActiveLearner(estimator=estimator,\n",
        "                            X_training=X_initial,\n",
        "                            y_training=y_initial,\n",
        "                            query_strategy=query_strategy,\n",
        "                            verbose=verbose\n",
        "                           )\n",
        "    perf_hist = [learner.score(X_test, y_test, verbose=verbose)]\n",
        "    for index in range(n_queries):\n",
        "        query_idx, query_instance = learner.query(X_pool, n_instances)\n",
        "        learner.teach(X_pool[query_idx], y_pool[query_idx], epochs=epochs, batch_size=batch_size, verbose=verbose)\n",
        "        X_pool = np.delete(X_pool, query_idx, axis=0)\n",
        "        y_pool = np.delete(y_pool, query_idx, axis=0)\n",
        "        model_accuracy = learner.score(X_test, y_test, verbose=0)\n",
        "        print('Accuracy after query {n}: {acc:0.4f}'.format(n=index + 1, acc=model_accuracy))\n",
        "        perf_hist.append(model_accuracy)\n",
        "    return perf_hist"
      ],
      "metadata": {
        "id": "gL27xYg0nPuL"
      },
      "execution_count": null,
      "outputs": []
    },
    {
      "cell_type": "code",
      "source": [
        "estimator = KerasClassifier(create_keras_model)\n",
        "uniform_perf_hist = active_learning_procedure(uniform,\n",
        "                                              X_test,\n",
        "                                              y_test,\n",
        "                                              X_pool,\n",
        "                                              y_pool,\n",
        "                                              X_initial,\n",
        "                                              y_initial,\n",
        "                                              estimator,)"
      ],
      "metadata": {
        "id": "XGcSDo0EnUA6",
        "outputId": "ab098568-8b85-4fff-fd2c-ce383f9e88ab",
        "colab": {
          "base_uri": "https://localhost:8080/"
        }
      },
      "execution_count": null,
      "outputs": [
        {
          "output_type": "stream",
          "name": "stderr",
          "text": [
            "/usr/local/lib/python3.7/dist-packages/ipykernel_launcher.py:1: DeprecationWarning: KerasClassifier is deprecated, use Sci-Keras (https://github.com/adriangb/scikeras) instead. See https://www.adriangb.com/scikeras/stable/migration.html for help migrating.\n",
            "  \"\"\"Entry point for launching an IPython kernel.\n"
          ]
        },
        {
          "output_type": "stream",
          "name": "stdout",
          "text": [
            "Accuracy after query 1: 0.6815\n",
            "Accuracy after query 2: 0.6510\n",
            "Accuracy after query 3: 0.7117\n",
            "Accuracy after query 4: 0.7310\n",
            "Accuracy after query 5: 0.7425\n",
            "Accuracy after query 6: 0.7593\n",
            "Accuracy after query 7: 0.7718\n",
            "Accuracy after query 8: 0.7856\n",
            "Accuracy after query 9: 0.7985\n",
            "Accuracy after query 10: 0.7875\n",
            "Accuracy after query 11: 0.8118\n",
            "Accuracy after query 12: 0.7754\n",
            "Accuracy after query 13: 0.7917\n",
            "Accuracy after query 14: 0.7889\n",
            "Accuracy after query 15: 0.8384\n",
            "Accuracy after query 16: 0.8517\n",
            "Accuracy after query 17: 0.8450\n",
            "Accuracy after query 18: 0.8607\n",
            "Accuracy after query 19: 0.8525\n",
            "Accuracy after query 20: 0.8554\n",
            "Accuracy after query 21: 0.8712\n",
            "Accuracy after query 22: 0.8696\n",
            "Accuracy after query 23: 0.8680\n",
            "Accuracy after query 24: 0.8838\n",
            "Accuracy after query 25: 0.8832\n",
            "Accuracy after query 26: 0.8813\n",
            "Accuracy after query 27: 0.8717\n",
            "Accuracy after query 28: 0.8785\n",
            "Accuracy after query 29: 0.8907\n",
            "Accuracy after query 30: 0.8909\n",
            "Accuracy after query 31: 0.8978\n",
            "Accuracy after query 32: 0.8916\n",
            "Accuracy after query 33: 0.8962\n",
            "Accuracy after query 34: 0.9070\n",
            "Accuracy after query 35: 0.9064\n",
            "Accuracy after query 36: 0.8969\n",
            "Accuracy after query 37: 0.9195\n",
            "Accuracy after query 38: 0.9106\n",
            "Accuracy after query 39: 0.9095\n",
            "Accuracy after query 40: 0.9163\n",
            "Accuracy after query 41: 0.9104\n",
            "Accuracy after query 42: 0.9190\n",
            "Accuracy after query 43: 0.9176\n",
            "Accuracy after query 44: 0.9245\n",
            "Accuracy after query 45: 0.9161\n",
            "Accuracy after query 46: 0.9213\n",
            "Accuracy after query 47: 0.9150\n",
            "Accuracy after query 48: 0.9215\n",
            "Accuracy after query 49: 0.9268\n",
            "Accuracy after query 50: 0.9277\n",
            "Accuracy after query 51: 0.9234\n",
            "Accuracy after query 52: 0.9275\n",
            "Accuracy after query 53: 0.9277\n",
            "Accuracy after query 54: 0.9313\n",
            "Accuracy after query 55: 0.9352\n",
            "Accuracy after query 56: 0.9334\n",
            "Accuracy after query 57: 0.9358\n",
            "Accuracy after query 58: 0.9360\n",
            "Accuracy after query 59: 0.9427\n",
            "Accuracy after query 60: 0.9310\n",
            "Accuracy after query 61: 0.9424\n",
            "Accuracy after query 62: 0.9423\n",
            "Accuracy after query 63: 0.9375\n",
            "Accuracy after query 64: 0.9367\n",
            "Accuracy after query 65: 0.9416\n",
            "Accuracy after query 66: 0.9406\n",
            "Accuracy after query 67: 0.9384\n",
            "Accuracy after query 68: 0.9409\n",
            "Accuracy after query 69: 0.9428\n",
            "Accuracy after query 70: 0.9433\n",
            "Accuracy after query 71: 0.9419\n",
            "Accuracy after query 72: 0.9471\n",
            "Accuracy after query 73: 0.9436\n",
            "Accuracy after query 74: 0.9477\n",
            "Accuracy after query 75: 0.9440\n",
            "Accuracy after query 76: 0.9438\n",
            "Accuracy after query 77: 0.9479\n",
            "Accuracy after query 78: 0.9528\n",
            "Accuracy after query 79: 0.9448\n",
            "Accuracy after query 80: 0.9507\n",
            "Accuracy after query 81: 0.9514\n",
            "Accuracy after query 82: 0.9512\n",
            "Accuracy after query 83: 0.9524\n",
            "Accuracy after query 84: 0.9518\n",
            "Accuracy after query 85: 0.9501\n",
            "Accuracy after query 86: 0.9511\n",
            "Accuracy after query 87: 0.9550\n",
            "Accuracy after query 88: 0.9492\n",
            "Accuracy after query 89: 0.9513\n",
            "Accuracy after query 90: 0.9543\n",
            "Accuracy after query 91: 0.9548\n",
            "Accuracy after query 92: 0.9534\n",
            "Accuracy after query 93: 0.9547\n",
            "Accuracy after query 94: 0.9546\n",
            "Accuracy after query 95: 0.9554\n",
            "Accuracy after query 96: 0.9568\n",
            "Accuracy after query 97: 0.9556\n",
            "Accuracy after query 98: 0.9540\n",
            "Accuracy after query 99: 0.9565\n",
            "Accuracy after query 100: 0.9519\n"
          ]
        }
      ]
    },
    {
      "cell_type": "code",
      "source": [],
      "metadata": {
        "id": "L6LN3o_5ntRa"
      },
      "execution_count": null,
      "outputs": []
    }
  ],
  "metadata": {
    "colab": {
      "provenance": [],
      "toc_visible": true,
      "collapsed_sections": [],
      "include_colab_link": true
    },
    "kernelspec": {
      "display_name": "Python 3",
      "name": "python3"
    },
    "accelerator": "GPU",
    "gpuClass": "standard"
  },
  "nbformat": 4,
  "nbformat_minor": 0
}